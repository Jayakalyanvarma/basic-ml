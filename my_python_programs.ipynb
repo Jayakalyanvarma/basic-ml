{
  "nbformat": 4,
  "nbformat_minor": 0,
  "metadata": {
    "colab": {
      "name": "my python programs",
      "provenance": [],
      "collapsed_sections": [],
      "authorship_tag": "ABX9TyOjBuH5hohtuYyoeWlYqYO1",
      "include_colab_link": true
    },
    "kernelspec": {
      "name": "python3",
      "display_name": "Python 3"
    },
    "language_info": {
      "name": "python"
    }
  },
  "cells": [
    {
      "cell_type": "markdown",
      "metadata": {
        "id": "view-in-github",
        "colab_type": "text"
      },
      "source": [
        "<a href=\"https://colab.research.google.com/github/Jayakalyanvarma/basic-ml/blob/main/my_python_programs.ipynb\" target=\"_parent\"><img src=\"https://colab.research.google.com/assets/colab-badge.svg\" alt=\"Open In Colab\"/></a>"
      ]
    },
    {
      "cell_type": "markdown",
      "metadata": {
        "id": "36s6xW2K7Wdo"
      },
      "source": [
        ""
      ]
    },
    {
      "cell_type": "markdown",
      "metadata": {
        "id": "kEnqtax87Xlg"
      },
      "source": [
        "1.)program to determine the whether given year is leap year or not."
      ]
    },
    {
      "cell_type": "code",
      "metadata": {
        "id": "ktYPCFIc7j5Y",
        "colab": {
          "base_uri": "https://localhost:8080/"
        },
        "outputId": "f33bc0b3-a850-418d-856a-adc03150c842"
      },
      "source": [
        "year=int(input())\n",
        "if(year%4==0 and year%100!=0 or year%400==0):\n",
        "      print(\"year is leap year\")\n",
        "else:\n",
        "      print(\"year is not leap year\")      \n",
        "\n",
        "\n",
        "\n",
        "\n",
        "\n",
        "\n"
      ],
      "execution_count": null,
      "outputs": [
        {
          "output_type": "stream",
          "text": [
            "2020\n",
            "year is leap year\n"
          ],
          "name": "stdout"
        }
      ]
    },
    {
      "cell_type": "markdown",
      "metadata": {
        "id": "4_j1IhScEEz1"
      },
      "source": [
        ""
      ]
    },
    {
      "cell_type": "markdown",
      "metadata": {
        "id": "1aWaiHxBFyc3"
      },
      "source": [
        "2.)program to determine whether the given number is palendrome or not."
      ]
    },
    {
      "cell_type": "markdown",
      "metadata": {
        "id": "5eebLSzAIzvJ"
      },
      "source": [
        ""
      ]
    },
    {
      "cell_type": "code",
      "metadata": {
        "colab": {
          "base_uri": "https://localhost:8080/"
        },
        "id": "iPv_RkS9GR9k",
        "outputId": "432d276d-3828-4b7d-9962-9cff9b97d719"
      },
      "source": [
        "a=input()\n",
        "c=a[::-1]\n",
        "if(c==a):\n",
        "      print(\"palendrome\")\n",
        "else:\n",
        "      print(\"not a palendrome\")      \n"
      ],
      "execution_count": null,
      "outputs": [
        {
          "output_type": "stream",
          "text": [
            "121\n",
            "palendrome\n"
          ],
          "name": "stdout"
        }
      ]
    },
    {
      "cell_type": "markdown",
      "metadata": {
        "id": "Le0QFg5gI1lE"
      },
      "source": [
        "3.)to find the sum of squares of first n natural numbers."
      ]
    },
    {
      "cell_type": "code",
      "metadata": {
        "colab": {
          "base_uri": "https://localhost:8080/"
        },
        "id": "LFjbEhjjJSoM",
        "outputId": "3ed3384d-6f52-456d-f476-f5e899114e38"
      },
      "source": [
        "n=int(input())\n",
        "sum=0\n",
        "for i in range(1,n+1):\n",
        "    sum+=i*i\n",
        "print(sum)"
      ],
      "execution_count": null,
      "outputs": [
        {
          "output_type": "stream",
          "text": [
            "8\n",
            "204\n"
          ],
          "name": "stdout"
        }
      ]
    }
  ]
}